{
 "cells": [
  {
   "cell_type": "markdown",
   "metadata": {},
   "source": [
    "**Import Libraries**"
   ]
  },
  {
   "cell_type": "code",
   "execution_count": 21,
   "metadata": {},
   "outputs": [],
   "source": [
    "import warnings \n",
    "warnings.filterwarnings(\"ignore\")\n",
    "from gensim.summarization.summarizer import summarize\n",
    "from gensim.summarization import keywords"
   ]
  },
  {
   "cell_type": "markdown",
   "metadata": {},
   "source": [
    "**Define the text**"
   ]
  },
  {
   "cell_type": "code",
   "execution_count": 22,
   "metadata": {},
   "outputs": [],
   "source": [
    "text = \"\"\"In 1981, party clown and aspiring stand-up comedian Arthur Fleck lives with his mother, Penny, in Gotham City. Gotham is rife with crime and unemployment, leaving swaths of the population disenfranchised and impoverished. Arthur suffers from a medical disorder that causes him to laugh at inappropriate times, depending on social services for medication. After a gang of delinquents attacks Arthur in an alley, his co-worker Randall gives him a gun for protection. Arthur pursues a relationship with his neighbor, single mother Sophie Dumond, and invites her to his upcoming stand-up routine at a nightclub.\n",
    "\n",
    "While entertaining at a children's hospital, Arthur's gun falls out of his pocket. Randall lies that Arthur bought the gun himself, and Arthur is fired. On the subway, still in his clown makeup, Arthur is beaten by three drunken Wayne Enterprises businessmen; he shoots two in self-defense and wounds the third before pursuing him off the train and executing him on the stairs. The killings are condemned by billionaire mayoral candidate Thomas Wayne, who calls those envious of more successful people \"clowns.\" Demonstrations against Gotham's rich begin, with protesters donning clown masks in Arthur's image. Funding cuts shut down the social service program, leaving Arthur without his medication.\n",
    "\n",
    "Sophie attends Arthur's stand-up routine, which goes poorly; he laughs uncontrollably and has difficulty delivering his jokes. Arthur's idol, popular talk show host, Murray Franklin, mocks Arthur by showing clips from the comedy routine on his show. Arthur intercepts a letter written by Penny to Thomas, alleging that he is Thomas's illegitimate son, and berates his mother for hiding the truth. Arthur goes to Wayne Manor, where he meets Thomas's young son Bruce, but flees after a scuffle with the family butler Alfred Pennyworth. Following a visit from two Gotham City Police Department detectives investigating Arthur's involvement in the train murders, Penny suffers a stroke and is hospitalized.\n",
    "\n",
    "Arthur sneaks into a private event and confronts Thomas, who tells him that Penny is delusional and not his biological mother. In denial, Arthur visits Arkham State Hospital and steals Penny's case file; the file says Penny adopted Arthur as a baby and allowed her abusive boyfriend to harm them both. However, Penny claims that Thomas used his influence to fabricate the adoption to hide their affair. Distraught, Arthur returns home and enters Sophie's apartment unannounced. Frightened, Sophie tells him to leave; their relationship was merely a figment of Arthur's imagination. The following day, Arthur kills Penny at the hospital.\n",
    "\n",
    "Arthur is invited to appear on Murray's show due to the unexpected popularity of his comedy routine's clips. As he prepares, Arthur is visited by ex-colleagues Randall and Gary. Arthur murders Randall but spares Gary for treating him well in the past. En route to the studio, Arthur is pursued by the two detectives onto a train filled with clown protesters. One detective accidentally shoots a protester and incites a riot, allowing Arthur to escape; the rioters brutally beat the detectives as Arthur leaves.\n",
    "\n",
    "Before the show goes live, Arthur requests that Murray introduce him as Joker, a reference to Murray's previous mockery. Arthur walks out to applause, but starts telling morbid jokes, confesses to the train murders, rants about how society abandons the downtrodden and mentally ill, and berates Murray for mocking him on the previous segment. When Murray criticizes him and threatens to call the police, Arthur shoots him twice on live television, killing him; he is arrested for murder as riots break out across Gotham. One of the rioters corners the Wayne family in an alley and murders Thomas and his wife, Martha, sparing Bruce.[a] Rioters in an ambulance crash into the police car carrying Arthur, freeing him; he stands atop the car, dances to the cheers of the crowd, and smears blood on his face in the form of a smile.\n",
    "\n",
    "At Arkham, Arthur laughs to himself about a joke and tells his psychiatrist she would not understand it. He runs from an orderly, leaving behind a trail of bloodied footprints.\"\"\""
   ]
  },
  {
   "cell_type": "code",
   "execution_count": 4,
   "metadata": {},
   "outputs": [
    {
     "data": {
      "text/plain": [
       "4170"
      ]
     },
     "execution_count": 4,
     "metadata": {},
     "output_type": "execute_result"
    }
   ],
   "source": [
    "#Length of the text\n",
    "len(text)"
   ]
  },
  {
   "cell_type": "markdown",
   "metadata": {},
   "source": [
    "**Split is used to return list of strings rather than joined sentences**"
   ]
  },
  {
   "cell_type": "code",
   "execution_count": 5,
   "metadata": {},
   "outputs": [
    {
     "data": {
      "text/plain": [
       "665"
      ]
     },
     "execution_count": 5,
     "metadata": {},
     "output_type": "execute_result"
    }
   ],
   "source": [
    "len(text.split())"
   ]
  },
  {
   "cell_type": "code",
   "execution_count": 6,
   "metadata": {},
   "outputs": [
    {
     "data": {
      "text/plain": [
       "\"In 1981, party clown and aspiring stand-up comedian Arthur Fleck lives with his mother, Penny, in Gotham City.\\nArthur pursues a relationship with his neighbor, single mother Sophie Dumond, and invites her to his upcoming stand-up routine at a nightclub.\\nSophie attends Arthur's stand-up routine, which goes poorly; he laughs uncontrollably and has difficulty delivering his jokes.\\nFollowing a visit from two Gotham City Police Department detectives investigating Arthur's involvement in the train murders, Penny suffers a stroke and is hospitalized.\\nThe following day, Arthur kills Penny at the hospital.\\nWhen Murray criticizes him and threatens to call the police, Arthur shoots him twice on live television, killing him; he is arrested for murder as riots break out across Gotham.\""
      ]
     },
     "execution_count": 6,
     "metadata": {},
     "output_type": "execute_result"
    }
   ],
   "source": [
    "#summarize the text and print\n",
    "sum_text = summarize(text)\n",
    "sum_text"
   ]
  },
  {
   "cell_type": "code",
   "execution_count": 8,
   "metadata": {},
   "outputs": [
    {
     "data": {
      "text/plain": [
       "782"
      ]
     },
     "execution_count": 8,
     "metadata": {},
     "output_type": "execute_result"
    }
   ],
   "source": [
    "#length of the summary\n",
    "len(sum_text)"
   ]
  },
  {
   "cell_type": "code",
   "execution_count": 9,
   "metadata": {},
   "outputs": [
    {
     "data": {
      "text/plain": [
       "120"
      ]
     },
     "execution_count": 9,
     "metadata": {},
     "output_type": "execute_result"
    }
   ],
   "source": [
    "len(sum_text.split())"
   ]
  },
  {
   "cell_type": "markdown",
   "metadata": {},
   "source": [
    "**Get result as a list of string**"
   ]
  },
  {
   "cell_type": "code",
   "execution_count": 12,
   "metadata": {},
   "outputs": [
    {
     "data": {
      "text/plain": [
       "['In 1981, party clown and aspiring stand-up comedian Arthur Fleck lives with his mother, Penny, in Gotham City.',\n",
       " 'Arthur pursues a relationship with his neighbor, single mother Sophie Dumond, and invites her to his upcoming stand-up routine at a nightclub.',\n",
       " \"Sophie attends Arthur's stand-up routine, which goes poorly; he laughs uncontrollably and has difficulty delivering his jokes.\",\n",
       " \"Following a visit from two Gotham City Police Department detectives investigating Arthur's involvement in the train murders, Penny suffers a stroke and is hospitalized.\",\n",
       " 'The following day, Arthur kills Penny at the hospital.',\n",
       " 'When Murray criticizes him and threatens to call the police, Arthur shoots him twice on live television, killing him; he is arrested for murder as riots break out across Gotham.']"
      ]
     },
     "execution_count": 12,
     "metadata": {},
     "output_type": "execute_result"
    }
   ],
   "source": [
    "summarize(text, split=True)"
   ]
  },
  {
   "cell_type": "markdown",
   "metadata": {},
   "source": [
    "**Set the amount of text you want in the Summary. Default is 20% of the text**"
   ]
  },
  {
   "cell_type": "code",
   "execution_count": 13,
   "metadata": {},
   "outputs": [
    {
     "data": {
      "text/plain": [
       "'In 1981, party clown and aspiring stand-up comedian Arthur Fleck lives with his mother, Penny, in Gotham City.\\nArthur pursues a relationship with his neighbor, single mother Sophie Dumond, and invites her to his upcoming stand-up routine at a nightclub.\\nOn the subway, still in his clown makeup, Arthur is beaten by three drunken Wayne Enterprises businessmen; he shoots two in self-defense and wounds the third before pursuing him off the train and executing him on the stairs.\\nThe killings are condemned by billionaire mayoral candidate Thomas Wayne, who calls those envious of more successful people \"clowns.\" Demonstrations against Gotham\\'s rich begin, with protesters donning clown masks in Arthur\\'s image.\\nSophie attends Arthur\\'s stand-up routine, which goes poorly; he laughs uncontrollably and has difficulty delivering his jokes.\\nArthur intercepts a letter written by Penny to Thomas, alleging that he is Thomas\\'s illegitimate son, and berates his mother for hiding the truth.\\nFollowing a visit from two Gotham City Police Department detectives investigating Arthur\\'s involvement in the train murders, Penny suffers a stroke and is hospitalized.\\nArthur sneaks into a private event and confronts Thomas, who tells him that Penny is delusional and not his biological mother.\\nFrightened, Sophie tells him to leave; their relationship was merely a figment of Arthur\\'s imagination.\\nThe following day, Arthur kills Penny at the hospital.\\nArthur is invited to appear on Murray\\'s show due to the unexpected popularity of his comedy routine\\'s clips.\\nArthur murders Randall but spares Gary for treating him well in the past.\\nEn route to the studio, Arthur is pursued by the two detectives onto a train filled with clown protesters.\\nArthur walks out to applause, but starts telling morbid jokes, confesses to the train murders, rants about how society abandons the downtrodden and mentally ill, and berates Murray for mocking him on the previous segment.\\nWhen Murray criticizes him and threatens to call the police, Arthur shoots him twice on live television, killing him; he is arrested for murder as riots break out across Gotham.\\nAt Arkham, Arthur laughs to himself about a joke and tells his psychiatrist she would not understand it.'"
      ]
     },
     "execution_count": 13,
     "metadata": {},
     "output_type": "execute_result"
    }
   ],
   "source": [
    "summarize(text, ratio=0.5)"
   ]
  },
  {
   "cell_type": "markdown",
   "metadata": {},
   "source": [
    "**Set maximum number of words in the summary**"
   ]
  },
  {
   "cell_type": "code",
   "execution_count": 14,
   "metadata": {},
   "outputs": [
    {
     "data": {
      "text/plain": [
       "\"In 1981, party clown and aspiring stand-up comedian Arthur Fleck lives with his mother, Penny, in Gotham City.\\nFollowing a visit from two Gotham City Police Department detectives investigating Arthur's involvement in the train murders, Penny suffers a stroke and is hospitalized.\""
      ]
     },
     "execution_count": 14,
     "metadata": {},
     "output_type": "execute_result"
    }
   ],
   "source": [
    "summarize(text, word_count= 50)"
   ]
  },
  {
   "cell_type": "code",
   "execution_count": 15,
   "metadata": {},
   "outputs": [
    {
     "data": {
      "text/plain": [
       "42"
      ]
     },
     "execution_count": 15,
     "metadata": {},
     "output_type": "execute_result"
    }
   ],
   "source": [
    "len(summarize(text, word_count= 50).split())"
   ]
  }
 ],
 "metadata": {
  "kernelspec": {
   "display_name": "Python 3",
   "language": "python",
   "name": "python3"
  },
  "language_info": {
   "codemirror_mode": {
    "name": "ipython",
    "version": 3
   },
   "file_extension": ".py",
   "mimetype": "text/x-python",
   "name": "python",
   "nbconvert_exporter": "python",
   "pygments_lexer": "ipython3",
   "version": "3.8.5"
  }
 },
 "nbformat": 4,
 "nbformat_minor": 4
}
